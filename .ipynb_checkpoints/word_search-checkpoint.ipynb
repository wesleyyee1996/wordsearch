{
 "cells": [
  {
   "cell_type": "code",
   "execution_count": 55,
   "metadata": {},
   "outputs": [
    {
     "name": "stdout",
     "output_type": "stream",
     "text": [
      "showing info https://raw.githubusercontent.com/nltk/nltk_data/gh-pages/index.xml\n"
     ]
    }
   ],
   "source": [
    "# Import word corpus from nltk\n",
    "\n",
    "import nltk\n",
    "nltk.download()\n",
    "\n",
    "from nltk.corpus import words\n"
   ]
  },
  {
   "cell_type": "code",
   "execution_count": 66,
   "metadata": {},
   "outputs": [],
   "source": [
    "# Implementation of trie data structure\n",
    "class Trie:\n",
    "    def __init__(self, letter=\"\"):\n",
    "        \n",
    "        # The letter which this trie node represents\n",
    "        self.letter = letter\n",
    "        \n",
    "        # Dictionary which maps children letter -> corresponding Trie child node\n",
    "        self.children = {}\n",
    "        \n",
    "        # if the given trie is the last letter of a word, this is set to True\n",
    "        self.isWordEnd = False\n",
    "\n",
    "    def add_word(self, word, idx=0):\n",
    "        \"\"\"\n",
    "        Add words to the trie. Converts all words to lower case\n",
    "        \"\"\"\n",
    "        word = word.lower()\n",
    "        if word[idx] not in self.children:\n",
    "            self.children[word[idx]] = Trie(word[idx])        \n",
    "        if idx < len(word)-1:\n",
    "            self.children[word[idx]].add_word(word, idx+1)\n",
    "        if idx == len(word)-1:\n",
    "            self.children[word[idx]].isWordEnd = True\n",
    "        \n",
    "\n",
    "    def print_trie(self, word=\"\"):\n",
    "        \"\"\"\n",
    "        Utility function to print out all words that have been added to the trie\n",
    "        \"\"\"\n",
    "        if self.isWordEnd:\n",
    "            print(word+self.letter)\n",
    "        for c in self.children.keys():\n",
    "            self.children[c].print_trie(word+self.letter)"
   ]
  },
  {
   "cell_type": "code",
   "execution_count": 67,
   "metadata": {},
   "outputs": [],
   "source": [
    "# Initialize the root trie\n",
    "root_trie = Trie()\n",
    "\n",
    "# Add all words to the root trie\n",
    "for word in words.words():\n",
    "    root_trie.add_word(word)\n"
   ]
  },
  {
   "cell_type": "code",
   "execution_count": 68,
   "metadata": {},
   "outputs": [],
   "source": [
    "# The word board\n",
    "word_set = [['n','e','s','o','s'],\n",
    "['f','h','e','l','u'],\n",
    "['x','y','i','u','r'],\n",
    "['t','h','c','d','o'],\n",
    "['n','g','a','i','t']]\n"
   ]
  },
  {
   "cell_type": "code",
   "execution_count": 69,
   "metadata": {},
   "outputs": [],
   "source": [
    "import copy\n",
    "\n",
    "# Word Search Boggle Solver object\n",
    "class WordSearch:\n",
    "    def __init__(self, word_set):\n",
    "        self.word_set = word_set\n",
    "        self.height_words = len(self.word_set)\n",
    "        self.width_words = len(self.word_set[0])\n",
    "        self.found_words_set = set()\n",
    "        self.found_words_lst = []\n",
    "\n",
    "    def recurse(self, curr_pos, visited, trie_node, curr_str):\n",
    "        \"\"\"\n",
    "        The function doing most of the work. Starts at a given position in the boggle board and then traverses down the trie\n",
    "        based on the neighboring letters from the current letter.\n",
    "        \"\"\"\n",
    "        \n",
    "        # if the current node is a word end, then add it to the found words list\n",
    "        if trie_node.isWordEnd and curr_str not in self.found_words_set:\n",
    "            self.found_words_set.add(curr_str)\n",
    "            self.found_words_lst.append(curr_str)\n",
    "            \n",
    "        x_idx = curr_pos[0]\n",
    "        y_idx = curr_pos[1]\n",
    "        \n",
    "        # Loop thru the neighbors of current boggle board position\n",
    "        for i in range(x_idx-1, x_idx+2):\n",
    "            for j in range(y_idx-1, y_idx+2):\n",
    "                if 0 <= i < self.width_words and 0 <= j < self.height_words and (i,j) not in visited:\n",
    "                    \n",
    "                    # if the neighboring node is one of the current trie node's children, then continue traversal\n",
    "                    if word_set[i][j] in trie_node.children:\n",
    "                        new_visited = copy.deepcopy(visited)\n",
    "                        new_visited.add((i,j))\n",
    "                        new_str = curr_str + word_set[i][j]\n",
    "                        self.recurse((i,j), new_visited, trie_node.children[word_set[i][j]], new_str)\n",
    "                        \n",
    "    def find_words(self, root_trie):                       \n",
    "        \"\"\"\n",
    "        Loop through all starting letters in the board and find words starting with those letters\n",
    "        \"\"\"\n",
    "        empty_set = set()\n",
    "\n",
    "        for i in range(self.height_words):\n",
    "            for j in range(self.width_words):\n",
    "                self.recurse((i,j), empty_set, root_trie, \"\")\n",
    "                \n",
    "        # return words sorted from longest to shortest\n",
    "        return sorted(wordSearch.found_words_lst, key=len)[::-1]\n",
    "                    "
   ]
  },
  {
   "cell_type": "code",
   "execution_count": 71,
   "metadata": {},
   "outputs": [
    {
     "name": "stdout",
     "output_type": "stream",
     "text": [
      "['acidulous', 'solicitor', 'torulous', 'torulose', 'elicitor', 'hidrotic', 'torulus', 'adoulie', 'seiurus', 'sheolic', 'solicit', 'touchy', 'adroit', 'curule', 'urluch', 'ulidia', 'sloshy', 'lucida', 'elicit', 'sluicy', 'slicht', 'solidi', 'ticul', 'torus', 'touch', 'iodic', 'adrue', 'adieu', 'adiel', 'ngaio', 'droit', 'duchy', 'dulse', 'chait', 'chile', 'idiot', 'idaic', 'slosh', 'soles', 'lucia', 'lucid', 'licit', 'liesh', 'leuch', 'oleic', 'eurus', 'slich', 'slour', 'shiel', 'sheol', 'sheen', 'solid', 'hilus', 'heidi', 'tiou', 'toda', 'toru', 'tour', 'adit', 'achy', 'acid', 'gait', 'ngai', 'otic', 'odic', 'ordu', 'orle', 'orlo', 'ouch', 'doit', 'douc', 'dour', 'duro', 'duel', 'dich', 'dilo', 'caid', 'cagn', 'cadi', 'chai', 'chad', 'chid', 'chil', 'chih', 'curd', 'curl', 'thai', 'thad', 'tyee', 'roit', 'roid', 'roud', 'roue', 'rule', 'udic', 'urus', 'idic', 'ycie', 'yeso', 'yese', 'yees', 'urdu', 'surd', 'sulu', 'sosh', 'ludo', 'lucy', 'lues', 'lida', 'lich', 'lieu', 'leud', 'lehi', 'lees', 'lour', 'losh', 'lose', 'olid', 'else', 'slud', 'slue', 'slid', 'slur', 'sley', 'slee', 'sloe', 'seid', 'seen', 'shih', 'shel', 'shee', 'shen', 'sour', 'soul', 'soli', 'sole', 'seel', 'heel', 'feel', 'eheu', 'nese', 'nesh', 'tid', 'tic', 'toi', 'tod', 'tor', 'tou', 'ito', 'ait', 'aid', 'ado', 'ach', 'aht', 'gad', 'nth', 'oda', 'dit', 'dag', 'dah', 'dot', 'dor', 'duo', 'due', 'die', 'cit', 'cag', 'cad', 'cha', 'chi', 'cud', 'cur', 'cue', 'cid', 'hag', 'had', 'tha', 'thy', 'tye', 'rot', 'roi', 'rod', 'rud', 'rue', 'rus', 'udo', 'udi', 'uca', 'ida', 'ido', 'ich', 'icy', 'yid', 'yeo', 'yes', 'yee', 'uro', 'urd', 'uru', 'ulu', 'ule', 'sur', 'suu', 'luc', 'lui', 'lue', 'lid', 'lie', 'lur', 'luo', 'leu', 'lei', 'ley', 'leo', 'les', 'lee', 'lou', 'our', 'ole', 'oes', 'ose', 'eli', 'els', 'sey', 'shi', 'shy', 'she', 'sou', 'sol', 'soe', 'see', 'sen', 'hic', 'hie', 'hei', 'hey', 'hen', 'fee', 'fen', 'eel', 'nee', 'nef', 'ti', 'to', 'td', 'it', 'io', 'ai', 'ad', 'ah', 'ga', 'od', 'or', 'da', 'do', 'di', 'ca', 'ha', 'th', 'ro', 'ud', 'id', 'ie', 'ye', 'ur', 'us', 'li', 'lu', 'lo', 'oe', 'os', 'eu', 'ey', 'el', 'sh', 'so', 'se', 'hi', 'hy', 'he', 'fe', 'eh', 'es', 'en', 'ne', 'a', 'g', 'd', 'c', 't', 'r', 'i', 'y', 'x', 'u', 'l', 'o', 's', 'h', 'f', 'e', 'n']\n"
     ]
    }
   ],
   "source": [
    "word_search = WordSearch(word_set)\n",
    "print(word_search.find_words(root_trie))"
   ]
  },
  {
   "cell_type": "code",
   "execution_count": null,
   "metadata": {},
   "outputs": [],
   "source": []
  }
 ],
 "metadata": {
  "kernelspec": {
   "display_name": "Python 3",
   "language": "python",
   "name": "python3"
  },
  "language_info": {
   "codemirror_mode": {
    "name": "ipython",
    "version": 3
   },
   "file_extension": ".py",
   "mimetype": "text/x-python",
   "name": "python",
   "nbconvert_exporter": "python",
   "pygments_lexer": "ipython3",
   "version": "3.8.3"
  }
 },
 "nbformat": 4,
 "nbformat_minor": 4
}
